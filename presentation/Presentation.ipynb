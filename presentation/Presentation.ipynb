{
 "cells": [
  {
   "cell_type": "markdown",
   "id": "d478c285",
   "metadata": {
    "slideshow": {
     "slide_type": "slide"
    }
   },
   "source": [
    "# DNN Compression Using Tensor Decomposition\n",
    "## ResNet and DenseNet case study\n",
    "\n",
    "### Team: Decomposers\n",
    "1. Hai Le\n",
    "2. Abdulaziz Samra\n",
    "3. Evgeny Garcia\n",
    "4. Vladimir \n",
    "5. Uyen Vo"
   ]
  },
  {
   "cell_type": "markdown",
   "id": "a48d76ea",
   "metadata": {
    "slideshow": {
     "slide_type": "slide"
    }
   },
   "source": [
    "## Problem statement\n",
    "Running deep convolutional neural networks is a challenging task on many devices, as the number of parameters (and FLOPS) is increasing dramatically in the recent years.\n",
    "\n",
    "One of the most time ang memory consuming task is the evaluation on convolution layers in the model. **In this project, we try to speed-up different CNN architectures by replacement of Conv layers wit**"
   ]
  },
  {
   "cell_type": "markdown",
   "id": "fd4b134a",
   "metadata": {
    "slideshow": {
     "slide_type": "slide"
    }
   },
   "source": [
    "## Basic Idea\n",
    "consider the problem of matvec, if $A$ is $n \\times m$ matrix and $x$ is $m \\times 1$ vector, classical computation of $Ax$ requires $n m$ FLOPs.\n",
    "\n",
    "Using **SVD** low rank approximation of $A$, which is: \n",
    "$$A_r = U \\Sigma_r V^T$$\n",
    "where $U, \\Sigma_r, V^T$have shapes $n \\times r, r \\times r, r \\times m$ respectively, computation of $A_r x =  U \\Sigma_r V^T x$ needs $ (n + m) r +r^2$ FLOPs.  \n",
    "\n",
    "The same approach will be used to reduce the number of FLOPs "
   ]
  },
  {
   "cell_type": "markdown",
   "id": "2ad72672",
   "metadata": {},
   "source": []
  }
 ],
 "metadata": {
  "celltoolbar": "Slideshow",
  "kernelspec": {
   "display_name": "Python 3 (ipykernel)",
   "language": "python",
   "name": "python3"
  },
  "language_info": {
   "codemirror_mode": {
    "name": "ipython",
    "version": 3
   },
   "file_extension": ".py",
   "mimetype": "text/x-python",
   "name": "python",
   "nbconvert_exporter": "python",
   "pygments_lexer": "ipython3",
   "version": "3.9.12"
  }
 },
 "nbformat": 4,
 "nbformat_minor": 5
}
